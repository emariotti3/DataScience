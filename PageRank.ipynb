{
 "cells": [
  {
   "cell_type": "code",
   "execution_count": 6,
   "metadata": {
    "collapsed": false
   },
   "outputs": [
    {
     "name": "stdout",
     "output_type": "stream",
     "text": [
      "[[ 0.35402443]\n",
      " [ 0.2073596 ]\n",
      " [ 0.20444437]\n",
      " [ 0.1543555 ]\n",
      " [ 0.07155553]]\n"
     ]
    }
   ],
   "source": [
    "import numpy\n",
    "\n",
    "#Ej1: Para 5(cinco) paginas: {A,B,C,D,E} sean los siguientes links\n",
    "#(A,B)\n",
    "#(A,C)\n",
    "#(A,D)\n",
    "#(B,C)\n",
    "#(B,D)\n",
    "#(C,B)\n",
    "#(C,E)\n",
    "#(D,A)\n",
    "#(D,B)\n",
    "#(E,C)\n",
    "#Calcular el Simrank para la pagina A con b=0.7 y luego identificar la opcion correcta entre las siguientes: \n",
    "#a)El ranking de semejanza con A es B,C,D,E \n",
    "#b)La pagina menos similar a \"A\" es C \n",
    "#c)El ranking de semejanza con A es D,B,C,E \n",
    "#d)La pagina mas similar a \"A\" es D \n",
    "\n",
    "def PageRank(M, vector, b, tVec, nIter):\n",
    "    prVector = vector\n",
    "    teletransportation = 1 - b\n",
    "    for i in xrange(0,nIter):\n",
    "        prVector = b*M*prVector + teletransportation*tVec\n",
    "    return prVector\n",
    "\n",
    "M = numpy.matrix([[0,0,0,0.5,0],[0.33,0,0.5,0.5,0],[0.33,0.5,0,0,1],[0.33,0.5,0,0,0],[0,0,0.5,0,0]])\n",
    "tVec = numpy.matrix([[1],[0],[0],[0],[0]])\n",
    "prVector = numpy.matrix([[0.2],[0.2],[0.2],[0.2],[0.2]])\n",
    "\n",
    "print PageRank(M,prVector,0.7,tVec, 100)\n",
    "\n",
    "#Rta: SimRank(A): B,C,D,E"
   ]
  },
  {
   "cell_type": "code",
   "execution_count": 10,
   "metadata": {
    "collapsed": false
   },
   "outputs": [
    {
     "name": "stdout",
     "output_type": "stream",
     "text": [
      "PR after 1 iteration:\n",
      "[[ 0.6  ]\n",
      " [ 1.264]\n",
      " [ 0.864]\n",
      " [ 0.864]\n",
      " [ 0.6  ]]\n",
      "\n",
      "PR after 100 iterations:\n",
      "[[ 0.14860978]\n",
      " [ 0.27267498]\n",
      " [ 0.21208054]\n",
      " [ 0.21208054]\n",
      " [ 0.14860978]]\n",
      "\n"
     ]
    }
   ],
   "source": [
    "# Ej3: Para 5(cinco) paginas: {A,B,C,D,E} sean los siguientes links\n",
    "#(A,B)\n",
    "#(A,C)\n",
    "#(A,D)\n",
    "#(B,C)\n",
    "#(B,D)\n",
    "#(C,B)\n",
    "#(C,E)\n",
    "#(D,A)\n",
    "#(D,B)\n",
    "#Usando b=0.8 calcular el PR a partir del vector [1,1,1,1,1] y luego identificar la opcion correcta entre las siguientes:   \n",
    "#a)A tiende a 0.5 aproximadamente \n",
    "#b)La pagina con mayor PR es B \n",
    "#c)La pagina con mayor PR es D \n",
    "#d)En la primera iteracion C=0.75 \n",
    "\n",
    "\n",
    "M = numpy.matrix([[0,0,0,0.5,0],[0.33,0,0.5,0.5,0],[0.33,0.5,0,0,0],[0.33,0.5,0,0,0],[0,0,0.5,0,0]])\n",
    "deadEndFix = numpy.matrix([[0,0,0,0,0.2],[0,0,0,0,0.2],[0,0,0,0,0.2],[0,0,0,0,0.2],[0,0,0,0,0.2] ])\n",
    "tVec = numpy.matrix([[0.2],[0.2],[0.2],[0.2],[0.2]])\n",
    "prVector = numpy.matrix([[1],[1],[1],[1],[1]])\n",
    "\n",
    "print \"PR after 1 iteration:\\n\" + str( PageRank(M + deadEndFix,prVector,0.8,tVec, 1) ) + \"\\n\"\n",
    "print \"PR after 100 iterations:\\n\" + str(PageRank(M + deadEndFix,prVector,0.8,tVec, 100) ) + \"\\n\"\n",
    "\n",
    "#Rta: b)La pagina con mayor PR es B "
   ]
  },
  {
   "cell_type": "code",
   "execution_count": 11,
   "metadata": {
    "collapsed": false
   },
   "outputs": [
    {
     "name": "stdout",
     "output_type": "stream",
     "text": [
      "PR after 100 iterations:\n",
      "[[ 0.38391181]\n",
      " [ 0.21266252]\n",
      " [ 0.39342566]]\n",
      "\n"
     ]
    }
   ],
   "source": [
    "#Sea el siguiente grafo: \n",
    "#(A,B)\n",
    "#(B,C)\n",
    "#(A,C)\n",
    "#(C,A)\n",
    "#Calcular el pagerank con b=0.85. Escribir la ecuacion de pagerank para cada uno de los tres nodos: a,b,c y luego identificar la ecuacion correcta de la siguiente lista: \n",
    "#a) .85b = .575a + .15c \n",
    "#b) a = .9c + .05b \n",
    "#c) .95c = .9b + .475a \n",
    "#d) b = .475a + .05c \n",
    "\n",
    "M = numpy.matrix([[0,0,1],[0.5,0,0],[0.5,1,0]])\n",
    "tVec = numpy.matrix([[0.33],[0.33],[0.33]])\n",
    "prVector = numpy.matrix([[0.33],[0.33],[0.33]])\n",
    "\n",
    "print \"PR after 100 iterations:\\n\" + str(PageRank(M, prVector,0.85,tVec, 100) ) + \"\\n\"\n",
    "\n",
    "#Rta: c) .95c = .9b + .475a "
   ]
  },
  {
   "cell_type": "code",
   "execution_count": 15,
   "metadata": {
    "collapsed": false
   },
   "outputs": [
    {
     "name": "stdout",
     "output_type": "stream",
     "text": [
      "PR after 100 iterations:\n",
      "[[ 0.35761987]\n",
      " [ 0.22515695]\n",
      " [ 0.2454254 ]\n",
      " [ 0.17179778]]\n",
      "\n"
     ]
    }
   ],
   "source": [
    "#Calcular el PageRank tematico para el siguiente grafo. \n",
    "#(1,3)\n",
    "#(1,2)\n",
    "#(2,1)\n",
    "#(3,4)\n",
    "#(4,3)\n",
    "#Asumir que los nodos que representan el tema de interes son el 1 y el 2 y que el peso del nodo 1 es el doble del tema 2. Usar b=0.7. Y luego identificar la opcion correcta entre las siguientes: \n",
    "#a) TSPR(3) = .9097 \n",
    "#b) TSPR(1) = .2455 \n",
    "#c) TSPR(2) = .8998 \n",
    "#d) TSPR(4) = .1718 \n",
    "\n",
    "M = numpy.matrix([[0,1,0,0],[0.5,0,0,0],[0.5,0,0,1],[0,0,1,0]])\n",
    "tVec = numpy.matrix([ [0.6667],[0.3333],[0],[0] ])\n",
    "prVector = numpy.matrix([ [0.25],[0.25],[0.25],[0.25] ])\n",
    "\n",
    "print \"PR after 100 iterations:\\n\" + str( PageRank(M, prVector,0.7,tVec, 100) ) + \"\\n\"\n",
    "\n",
    "#Rta: d) TSPR(4) = .1718 \n"
   ]
  },
  {
   "cell_type": "code",
   "execution_count": 16,
   "metadata": {
    "collapsed": false
   },
   "outputs": [
    {
     "name": "stdout",
     "output_type": "stream",
     "text": [
      "PR after 4 iterations:\n",
      "[[ 1.25]\n",
      " [ 0.5 ]\n",
      " [ 1.25]]\n",
      "\n",
      "PR after 5 iterations:\n",
      "[[ 1.25 ]\n",
      " [ 0.625]\n",
      " [ 1.125]]\n",
      "\n",
      "PR after 100 iterations:\n",
      "[[ 1.2]\n",
      " [ 0.6]\n",
      " [ 1.2]]\n",
      "\n"
     ]
    }
   ],
   "source": [
    "#Sea el siguiente grafo: \n",
    "#(A,B)\n",
    "#(B,C)\n",
    "#(A,C)\n",
    "#(C,A)\n",
    "\n",
    "#Sin usar teletransportacion calcular el PageRank de a,b,c partiendo de a=1,b=1,c=1 realizando 5 iteraciones. \n",
    "#Calcular tambien el valor de convergencia del PageRank. Luego identificar la opcion correcta: \n",
    "#a) Luego de la iteracion 4 b=3/5 \n",
    "#b) Luego de la iteracion 4 c=4/3 \n",
    "#c) Luego de la iteracion 4 a=5/4 \n",
    "#d) Luego de la iteracion 5 c=7/4 \n",
    "\n",
    "M = numpy.matrix([[0,0,1],[0.5,0,0],[0.5,1,0]])\n",
    "tVec = numpy.matrix([[0],[0],[0]])\n",
    "prVector = numpy.matrix([[1],[1],[1]])\n",
    "\n",
    "print \"PR after 4 iterations:\\n\" + str(PageRank(M, prVector,1,tVec, 4) ) + \"\\n\"\n",
    "print \"PR after 5 iterations:\\n\" + str(PageRank(M, prVector,1,tVec, 5) ) + \"\\n\"\n",
    "print \"PR after 100 iterations:\\n\" + str(PageRank(M, prVector,1,tVec, 100) ) + \"\\n\"\n",
    "\n",
    "#Rta: c) Luego de la iteracion 4 a=5/4 "
   ]
  }
 ],
 "metadata": {
  "kernelspec": {
   "display_name": "pySpark",
   "language": "python",
   "name": "pyspark"
  },
  "language_info": {
   "codemirror_mode": {
    "name": "ipython",
    "version": 2
   },
   "file_extension": ".py",
   "mimetype": "text/x-python",
   "name": "python",
   "nbconvert_exporter": "python",
   "pygments_lexer": "ipython2",
   "version": "2.7.6"
  }
 },
 "nbformat": 4,
 "nbformat_minor": 1
}
